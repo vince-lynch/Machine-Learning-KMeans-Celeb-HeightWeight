{
 "cells": [
  {
   "cell_type": "markdown",
   "metadata": {},
   "source": [
    "## Predicting Gender from Height and Weight data of celebrities\n",
    "## k-means-clustering-using-sklearn-cluster\n",
    "\n",
    "** k-means-clustering-using-sklearn-cluster\n",
    "\n",
    "** This program guesses whether someone is a boy or a girl based on their height and weight/\n",
    "\n",
    "** I got the idea from just browsing the internet trying to think of some kind of data (maybe to do with attractiveness ? but then thinking I didn't want to overcomplicate my first solution to a probelm\n",
    "\n",
    "** I got celebrity height and weight data from http://www.celeb-height-weight.psyphil.com/ (using scraping)\n",
    "\n",
    "** I learnt that maybe nearest neighbough or kmeans clustering might work best\n",
    "\n",
    "** after some googling I found an example using a dataset that also had two features (columns)\n",
    "\n",
    "https://stackoverflow.com/questions/34113790/k-means-clustering-using-sklearn-cluster"
   ]
  },
  {
   "cell_type": "code",
   "execution_count": 1,
   "metadata": {
    "collapsed": true
   },
   "outputs": [],
   "source": [
    "import numpy as np\n",
    "import sklearn\n",
    "import tensorflow\n",
    "import pandas\n",
    "import matplotlib.pyplot as plt"
   ]
  },
  {
   "cell_type": "code",
   "execution_count": 2,
   "metadata": {},
   "outputs": [
    {
     "name": "stdout",
     "output_type": "stream",
     "text": [
      "<http.client.HTTPResponse object at 0x7f84e25f4400>\n"
     ]
    },
    {
     "name": "stderr",
     "output_type": "stream",
     "text": [
      "/usr/lib/python3/dist-packages/bs4/__init__.py:166: UserWarning: No parser was explicitly specified, so I'm using the best available HTML parser for this system (\"lxml\"). This usually isn't a problem, but if you run this code on another system, or in a different virtual environment, it may use a different parser and behave differently.\n",
      "\n",
      "To get rid of this warning, change this:\n",
      "\n",
      " BeautifulSoup([your markup])\n",
      "\n",
      "to this:\n",
      "\n",
      " BeautifulSoup([your markup], \"lxml\")\n",
      "\n",
      "  markup_type=markup_type))\n"
     ]
    }
   ],
   "source": [
    "import numpy\n",
    "from urllib.request import urlopen\n",
    "html = urlopen(\"http://www.celeb-height-weight.psyphil.com/\")\n",
    "print(html)\n",
    "\n",
    "page = html.read()\n",
    "\n",
    "\n",
    "\n",
    "from bs4 import BeautifulSoup\n",
    "\n",
    "\n",
    "soup = BeautifulSoup(page)\n",
    "\n"
   ]
  },
  {
   "cell_type": "code",
   "execution_count": 3,
   "metadata": {
    "collapsed": true,
    "scrolled": false
   },
   "outputs": [],
   "source": [
    "data   = []\n",
    "labels = []\n",
    "count = 0\n",
    "\n",
    "for tr in soup.find_all('tr')[1:]:\n",
    "    tds = tr.find_all('td')\n",
    "    #print(tds[0].text)\n",
    "    labels.append([tds[0].text.strip('\\n')])\n",
    "    #labels.append(\"foo\")    \n",
    "    \n",
    "    \n",
    "    if \"lbs\" in tds[2].text:\n",
    "        if \"died\" in tds[2].text:\n",
    "            #print(tds[2].text.strip(' lbs (when died)'))\n",
    "            weight = tds[2].text.strip(' lbs (when died)')\n",
    "            weight = float(weight)\n",
    "            #print(weight)\n",
    "            #raise ValueError('A very specific bad thing happened')\n",
    "        else:\n",
    "            weight = numpy.array(tds[2].text.strip(' lbs').split(\"-\"))\n",
    "            averageWeight = numpy.mean(weight.astype(np.float))\n",
    "            weight = averageWeight\n",
    "    \n",
    "    # Convert weight from lb into kg\n",
    "    weightKg = float(weight) * 0.453592\n",
    "    \n",
    "    #get Height CM\n",
    "    height = float(tds[1].text.split(' cms')[0].split('/')[1])\n",
    "    #print(height)\n",
    "    \n",
    "    person = [height,  weightKg, str(tds[0].text.split('\\n')[1])]\n",
    "    data.append(person)\n",
    "\n",
    "    count = count + 1\n",
    "\n",
    "data.append([158,64, 'Marta Formenton'])\n",
    "data.append([176,71.6, 'Vince Lynch'])\n",
    "\n"
   ]
  },
  {
   "cell_type": "code",
   "execution_count": 4,
   "metadata": {},
   "outputs": [
    {
     "name": "stdout",
     "output_type": "stream",
     "text": [
      "[[177.8, 52.49873808, 'Adriana Lima'], [167.64, 54.4990788, 'Alicia Keys'], [170.18, 77.50072912, 'Al Pacino'], [173.99, 47.50015424, 'Amber Valletta'], [172.72, 55.49924916, 'Angelina Jolie'], [172.72, 54.4990788, 'Anna Kournikova'], [170.18, 56.499419520000004, 'Ashley Judd'], [157.48, 51.500835679999994, 'Avril Lavigne'], [174.0, 58.49976024, 'Bar Rafaeli'], [168.91, 77.50072912, 'Ben Stiller'], [167.64, 59.499930600000006, 'Beyonce Knowles'], [172.72, 56.499419520000004, 'Blake Lively'], [180.34, 90.50067583999999, 'Brad Pitt'], [162.56, 49.50049496, 'Britney Spears'], [181.61, 94.50135728, 'Bruce Willis'], [167.64, 44.49964316, 'Calista Flockhart'], [173.99, 54.4990788, 'Cameron Diaz'], [179.07, 51.500835679999994, 'Carmen Kass'], [160.02, 51.500835679999994, 'Carmen Electra'], [160.02, 51.500835679999994, 'Carrie Underwood'], [173.99, 54.4990788, 'Cate Blanchett'], [172.72, 58.49976024, 'Catherine Zeta Jones'], [176.53, 59.499930600000006, 'Charlize Theron'], [182.88, 86.49999439999999, 'Christian Bale'], [156.21, 47.50015424, 'Christina Aguilera'], [177.8, 52.49873808, 'Christy Turlington'], [172.72, 60.50010096, 'Ciara'], [177.8, 54.4990788, 'Cindy Crawford'], [170.18, 54.4990788, 'Cindy Margolis'], [167.64, 50.49839736, 'Claire Danes'], [175.26, 58.49976024, 'Courtney Love'], [166.37, 54.4990788, 'Daniel Radcliffe'], [179.07, 83.49948332, 'Daniel Craig'], [167.64, 54.4990788, 'Denise Richards'], [162.56, 55.49924916, 'Drew Barrymore'], [158.75, 50.49839736, 'Elisha cuthbert'], [182.88, 58.49976024, 'Elle MacPherson'], [158.75, 49.50049496, 'Emily Osment'], [157.48, 61.50027131999999, 'Emma Bunton'], [157.48, 47.50015424, 'Eva Longoria'], [175.26, 55.49924916, 'Faith Hill'], [158.75, 49.50049496, 'Fergie  / Stacy Ferguson'], [160.02, 47.50015424, 'Fiona Apple'], [180.34, 86.49999439999999, 'George Clooney'], [157.48, 48.5003246, 'Geri Halliwell'], [180.34, 54.4990788, 'Gisele Bundchen'], [167.64, 52.49873808, 'Gwen Stefani'], [175.26, 52.49873808, 'Gwyneth Paltrow'], [166.37, 52.49873808, 'Halle Berry'], [165.1, 50.49839736, 'Heather Locklear'], [175.26, 54.4990788, 'Heidi Klum'], [154.94, 57.49958988, 'Hilary Duff'], [193.04, 136.49944056, 'Hulk Hogan'], [175.26, 77.50072912, 'Jason Statham'], [163.0, 49.50049496, 'Jenna Jameson'], [167.64, 54.4990788, 'Jessica Alba'], [171.45, 50.49839736, 'Jessica Biel'], [160.02, 55.49924916, 'Jessica Simpson'], [163.83, 51.500835679999994, 'Jennifer Aniston'], [172.72, 52.49873808, 'Jennifer Garner'], [158.75, 54.4990788, 'Jennifer Love Hewitt'], [166.37, 56.499419520000004, 'Jennifer Lopez'], [170.18, 55.49924916, 'Jenny McCarthy'], [167.64, 53.50117639999999, 'Jewel Kilcher'], [187.96, 62.50044168000001, 'Jodie Kidd'], [177.8, 71.49970696, 'Johnny Depp'], [172.72, 55.49924916, 'Julia Roberts'], [170.18, 53.50117639999999, 'Julia Stiles'], [185.42, 73.50004768000001, 'Justin Timberlake'], [172.72, 54.4990788, 'Kate Beckinsale'], [167.64, 53.50117639999999, 'Kate Hudson'], [175.26, 55.49924916, 'Katherine Heigl'], [175.26, 54.4990788, 'Katie Holmes'], [167.64, 48.5003246, 'Kate Moss'], [170.18, 47.50015424, 'Keira Knightley'], [162.56, 53.50117639999999, 'Keri Russell'], [167.64, 49.50049496, 'Kirsten Dunst'], [163.0, 48.0013734, 'Kristen Stewart'], [157.48, 47.50015424, 'Lacey Chabert'], [170.18, 56.499419520000004, 'Laetitia Casta'], [165.1, 52.49873808, 'Leann Rimes'], [181.61, 76.50055875999999, 'Leonardo Dicaprio'], [165.1, 63.50061204, 'Lil Wayne'], [165.1, 49.50049496, 'Lindsay Lohan'], [172.72, 55.49924916, 'Lisa Kudrow'], [177.8, 58.49976024, 'Lucy Lawless'], [162.56, 47.50015424, 'Madonna'], [177.8, 58.49976024, 'Mandy Moore'], [175.26, 57.49958988, 'Mariah Carey'], [173.99, 76.50055875999999, 'Mark Wahlberg'], [177.8, 72.49987732, 'Matt Damon'], [163.0, 50.00171412, 'Megan Fox'], [175.0, 50.802304, 'Michael Jackson'], [164.0, 48.0013734, 'Miley Cyrus'], [172.72, 55.49924916, 'Milla Jovovich'], [177.8, 51.500835679999994, 'Naomi Campbell'], [162.56, 50.49839736, 'Natalie Portman'], [179.07, 55.49924916, 'Nicole Kidman'], [154.94, 44.49964316, 'Nicole Richie'], [179.07, 68.00024468000001, 'Orlando Bloom'], [170.18, 47.50015424, 'Pam / Pamela Anderson'], [172.72, 52.49873808, 'Paris Hilton'], [178.0, 48.9992758, 'Patrick Swayze'], [172.72, 49.50049496, 'Penelope Cruz'], [168.0, 51.500835679999994, 'Rachelle Lefevre'], [157.48, 46.49998388, 'Rachael Leigh Cook'], [157.0, 48.0013734, 'Rachel Miner'], [180.34, 76.50055875999999, 'Raven Symone'], [172.72, 51.500835679999994, 'Rebecca Gayheart'], [180.34, 58.49976024, 'Rebecca Romijn-Stamos'], [157.48, 52.49873808, 'Reese Witherspoon'], [172.72, 59.499930600000006, 'Rihanna'], [185.0, 78.99985068000001, 'Robert Pattinson'], [187.96, 81.00019139999999, 'Rodrigo Santoro'], [160.02, 46.49998388, 'Rose McGowan'], [177.8, 62.50044168000001, 'Rupert Grint'], [172.72, 68.99814708000001, 'Ryan Seacrest'], [170.18, 52.49873808, 'Sandra Bullock'], [157.48, 53.50117639999999, 'Salma Hayek'], [160.02, 46.49998388, 'Sarah Michelle Gellar'], [162.0, 50.999616520000004, 'Scarlett Johansson'], [157.48, 58.49976024, 'Shakira'], [175.26, 49.50049496, 'Shannon Elizabeth'], [162.56, 49.50049496, 'Shania Twain'], [177.8, 98.99872196, 'Sylvester Stallone'], [177.8, 55.49924916, 'Tyra Banks'], [165.1, 50.49839736, 'Tara Reid'], [167.64, 48.5003246, 'Teri Hatcher'], [180.34, 52.49873808, 'Taylor Swift'], [167.64, 49.50049496, 'Victoria Beckham'], [182.88, 98.99872196, 'Vin Diesel'], [167.64, 54.4990788, 'Zooey Deschanel'], [158, 64, 'Marta Formenton'], [176, 71.6, 'Vince Lynch']]\n"
     ]
    }
   ],
   "source": [
    "print(data)"
   ]
  },
  {
   "cell_type": "code",
   "execution_count": 5,
   "metadata": {},
   "outputs": [
    {
     "name": "stdout",
     "output_type": "stream",
     "text": [
      "[['177.8' '52.49873808' 'Adriana Lima']\n",
      " ['167.64' '54.4990788' 'Alicia Keys']\n",
      " ['170.18' '77.50072912' 'Al Pacino']\n",
      " ['173.99' '47.50015424' 'Amber Valletta']\n",
      " ['172.72' '55.49924916' 'Angelina Jolie']\n",
      " ['172.72' '54.4990788' 'Anna Kournikova']\n",
      " ['170.18' '56.499419520000004' 'Ashley Judd']\n",
      " ['157.48' '51.500835679999994' 'Avril Lavigne']\n",
      " ['174.0' '58.49976024' 'Bar Rafaeli']\n",
      " ['168.91' '77.50072912' 'Ben Stiller']\n",
      " ['167.64' '59.499930600000006' 'Beyonce Knowles']\n",
      " ['172.72' '56.499419520000004' 'Blake Lively']\n",
      " ['180.34' '90.50067583999999' 'Brad Pitt']\n",
      " ['162.56' '49.50049496' 'Britney Spears']\n",
      " ['181.61' '94.50135728' 'Bruce Willis']\n",
      " ['167.64' '44.49964316' 'Calista Flockhart']\n",
      " ['173.99' '54.4990788' 'Cameron Diaz']\n",
      " ['179.07' '51.500835679999994' 'Carmen Kass']\n",
      " ['160.02' '51.500835679999994' 'Carmen Electra']\n",
      " ['160.02' '51.500835679999994' 'Carrie Underwood']\n",
      " ['173.99' '54.4990788' 'Cate Blanchett']\n",
      " ['172.72' '58.49976024' 'Catherine Zeta Jones']\n",
      " ['176.53' '59.499930600000006' 'Charlize Theron']\n",
      " ['182.88' '86.49999439999999' 'Christian Bale']\n",
      " ['156.21' '47.50015424' 'Christina Aguilera']\n",
      " ['177.8' '52.49873808' 'Christy Turlington']\n",
      " ['172.72' '60.50010096' 'Ciara']\n",
      " ['177.8' '54.4990788' 'Cindy Crawford']\n",
      " ['170.18' '54.4990788' 'Cindy Margolis']\n",
      " ['167.64' '50.49839736' 'Claire Danes']\n",
      " ['175.26' '58.49976024' 'Courtney Love']\n",
      " ['166.37' '54.4990788' 'Daniel Radcliffe']\n",
      " ['179.07' '83.49948332' 'Daniel Craig']\n",
      " ['167.64' '54.4990788' 'Denise Richards']\n",
      " ['162.56' '55.49924916' 'Drew Barrymore']\n",
      " ['158.75' '50.49839736' 'Elisha cuthbert']\n",
      " ['182.88' '58.49976024' 'Elle MacPherson']\n",
      " ['158.75' '49.50049496' 'Emily Osment']\n",
      " ['157.48' '61.50027131999999' 'Emma Bunton']\n",
      " ['157.48' '47.50015424' 'Eva Longoria']\n",
      " ['175.26' '55.49924916' 'Faith Hill']\n",
      " ['158.75' '49.50049496' 'Fergie  / Stacy Ferguson']\n",
      " ['160.02' '47.50015424' 'Fiona Apple']\n",
      " ['180.34' '86.49999439999999' 'George Clooney']\n",
      " ['157.48' '48.5003246' 'Geri Halliwell']\n",
      " ['180.34' '54.4990788' 'Gisele Bundchen']\n",
      " ['167.64' '52.49873808' 'Gwen Stefani']\n",
      " ['175.26' '52.49873808' 'Gwyneth Paltrow']\n",
      " ['166.37' '52.49873808' 'Halle Berry']\n",
      " ['165.1' '50.49839736' 'Heather Locklear']\n",
      " ['175.26' '54.4990788' 'Heidi Klum']\n",
      " ['154.94' '57.49958988' 'Hilary Duff']\n",
      " ['193.04' '136.49944056' 'Hulk Hogan']\n",
      " ['175.26' '77.50072912' 'Jason Statham']\n",
      " ['163.0' '49.50049496' 'Jenna Jameson']\n",
      " ['167.64' '54.4990788' 'Jessica Alba']\n",
      " ['171.45' '50.49839736' 'Jessica Biel']\n",
      " ['160.02' '55.49924916' 'Jessica Simpson']\n",
      " ['163.83' '51.500835679999994' 'Jennifer Aniston']\n",
      " ['172.72' '52.49873808' 'Jennifer Garner']\n",
      " ['158.75' '54.4990788' 'Jennifer Love Hewitt']\n",
      " ['166.37' '56.499419520000004' 'Jennifer Lopez']\n",
      " ['170.18' '55.49924916' 'Jenny McCarthy']\n",
      " ['167.64' '53.50117639999999' 'Jewel Kilcher']\n",
      " ['187.96' '62.50044168000001' 'Jodie Kidd']\n",
      " ['177.8' '71.49970696' 'Johnny Depp']\n",
      " ['172.72' '55.49924916' 'Julia Roberts']\n",
      " ['170.18' '53.50117639999999' 'Julia Stiles']\n",
      " ['185.42' '73.50004768000001' 'Justin Timberlake']\n",
      " ['172.72' '54.4990788' 'Kate Beckinsale']\n",
      " ['167.64' '53.50117639999999' 'Kate Hudson']\n",
      " ['175.26' '55.49924916' 'Katherine Heigl']\n",
      " ['175.26' '54.4990788' 'Katie Holmes']\n",
      " ['167.64' '48.5003246' 'Kate Moss']\n",
      " ['170.18' '47.50015424' 'Keira Knightley']\n",
      " ['162.56' '53.50117639999999' 'Keri Russell']\n",
      " ['167.64' '49.50049496' 'Kirsten Dunst']\n",
      " ['163.0' '48.0013734' 'Kristen Stewart']\n",
      " ['157.48' '47.50015424' 'Lacey Chabert']\n",
      " ['170.18' '56.499419520000004' 'Laetitia Casta']\n",
      " ['165.1' '52.49873808' 'Leann Rimes']\n",
      " ['181.61' '76.50055875999999' 'Leonardo Dicaprio']\n",
      " ['165.1' '63.50061204' 'Lil Wayne']\n",
      " ['165.1' '49.50049496' 'Lindsay Lohan']\n",
      " ['172.72' '55.49924916' 'Lisa Kudrow']\n",
      " ['177.8' '58.49976024' 'Lucy Lawless']\n",
      " ['162.56' '47.50015424' 'Madonna']\n",
      " ['177.8' '58.49976024' 'Mandy Moore']\n",
      " ['175.26' '57.49958988' 'Mariah Carey']\n",
      " ['173.99' '76.50055875999999' 'Mark Wahlberg']\n",
      " ['177.8' '72.49987732' 'Matt Damon']\n",
      " ['163.0' '50.00171412' 'Megan Fox']\n",
      " ['175.0' '50.802304' 'Michael Jackson']\n",
      " ['164.0' '48.0013734' 'Miley Cyrus']\n",
      " ['172.72' '55.49924916' 'Milla Jovovich']\n",
      " ['177.8' '51.500835679999994' 'Naomi Campbell']\n",
      " ['162.56' '50.49839736' 'Natalie Portman']\n",
      " ['179.07' '55.49924916' 'Nicole Kidman']\n",
      " ['154.94' '44.49964316' 'Nicole Richie']\n",
      " ['179.07' '68.00024468000001' 'Orlando Bloom']\n",
      " ['170.18' '47.50015424' 'Pam / Pamela Anderson']\n",
      " ['172.72' '52.49873808' 'Paris Hilton']\n",
      " ['178.0' '48.9992758' 'Patrick Swayze']\n",
      " ['172.72' '49.50049496' 'Penelope Cruz']\n",
      " ['168.0' '51.500835679999994' 'Rachelle Lefevre']\n",
      " ['157.48' '46.49998388' 'Rachael Leigh Cook']\n",
      " ['157.0' '48.0013734' 'Rachel Miner']\n",
      " ['180.34' '76.50055875999999' 'Raven Symone']\n",
      " ['172.72' '51.500835679999994' 'Rebecca Gayheart']\n",
      " ['180.34' '58.49976024' 'Rebecca Romijn-Stamos']\n",
      " ['157.48' '52.49873808' 'Reese Witherspoon']\n",
      " ['172.72' '59.499930600000006' 'Rihanna']\n",
      " ['185.0' '78.99985068000001' 'Robert Pattinson']\n",
      " ['187.96' '81.00019139999999' 'Rodrigo Santoro']\n",
      " ['160.02' '46.49998388' 'Rose McGowan']\n",
      " ['177.8' '62.50044168000001' 'Rupert Grint']\n",
      " ['172.72' '68.99814708000001' 'Ryan Seacrest']\n",
      " ['170.18' '52.49873808' 'Sandra Bullock']\n",
      " ['157.48' '53.50117639999999' 'Salma Hayek']\n",
      " ['160.02' '46.49998388' 'Sarah Michelle Gellar']\n",
      " ['162.0' '50.999616520000004' 'Scarlett Johansson']\n",
      " ['157.48' '58.49976024' 'Shakira']\n",
      " ['175.26' '49.50049496' 'Shannon Elizabeth']\n",
      " ['162.56' '49.50049496' 'Shania Twain']\n",
      " ['177.8' '98.99872196' 'Sylvester Stallone']\n",
      " ['177.8' '55.49924916' 'Tyra Banks']\n",
      " ['165.1' '50.49839736' 'Tara Reid']\n",
      " ['167.64' '48.5003246' 'Teri Hatcher']\n",
      " ['180.34' '52.49873808' 'Taylor Swift']\n",
      " ['167.64' '49.50049496' 'Victoria Beckham']\n",
      " ['182.88' '98.99872196' 'Vin Diesel']\n",
      " ['167.64' '54.4990788' 'Zooey Deschanel']\n",
      " ['158' '64' 'Marta Formenton']\n",
      " ['176' '71.6' 'Vince Lynch']]\n"
     ]
    }
   ],
   "source": [
    "data = numpy.array(data)\n",
    "print(data)\n"
   ]
  },
  {
   "cell_type": "code",
   "execution_count": 7,
   "metadata": {},
   "outputs": [
    {
     "ename": "TypeError",
     "evalue": "Mismatch between array dtype ('<U32') and format specifier ('%.18e,%.18e,%.18e')",
     "output_type": "error",
     "traceback": [
      "\u001b[0;31m---------------------------------------------------------------------------\u001b[0m",
      "\u001b[0;31mTypeError\u001b[0m                                 Traceback (most recent call last)",
      "\u001b[0;32m/usr/lib/python3/dist-packages/numpy/lib/npyio.py\u001b[0m in \u001b[0;36msavetxt\u001b[0;34m(fname, X, fmt, delimiter, newline, header, footer, comments)\u001b[0m\n\u001b[1;32m   1157\u001b[0m                 \u001b[0;32mtry\u001b[0m\u001b[0;34m:\u001b[0m\u001b[0;34m\u001b[0m\u001b[0m\n\u001b[0;32m-> 1158\u001b[0;31m                     \u001b[0mfh\u001b[0m\u001b[0;34m.\u001b[0m\u001b[0mwrite\u001b[0m\u001b[0;34m(\u001b[0m\u001b[0masbytes\u001b[0m\u001b[0;34m(\u001b[0m\u001b[0mformat\u001b[0m \u001b[0;34m%\u001b[0m \u001b[0mtuple\u001b[0m\u001b[0;34m(\u001b[0m\u001b[0mrow\u001b[0m\u001b[0;34m)\u001b[0m \u001b[0;34m+\u001b[0m \u001b[0mnewline\u001b[0m\u001b[0;34m)\u001b[0m\u001b[0;34m)\u001b[0m\u001b[0;34m\u001b[0m\u001b[0m\n\u001b[0m\u001b[1;32m   1159\u001b[0m                 \u001b[0;32mexcept\u001b[0m \u001b[0mTypeError\u001b[0m\u001b[0;34m:\u001b[0m\u001b[0;34m\u001b[0m\u001b[0m\n",
      "\u001b[0;31mTypeError\u001b[0m: a float is required",
      "\nDuring handling of the above exception, another exception occurred:\n",
      "\u001b[0;31mTypeError\u001b[0m                                 Traceback (most recent call last)",
      "\u001b[0;32m<ipython-input-7-f36c959bb261>\u001b[0m in \u001b[0;36m<module>\u001b[0;34m()\u001b[0m\n\u001b[1;32m      1\u001b[0m \u001b[0;34m\"\"\"EXPORT THE DATA TO CSV INCASE THE WEBSITE WE SCRAPPED IT FROM GOES OFFLINE\"\"\"\u001b[0m\u001b[0;34m\u001b[0m\u001b[0m\n\u001b[1;32m      2\u001b[0m \u001b[0;32mimport\u001b[0m \u001b[0mnumpy\u001b[0m \u001b[0;32mas\u001b[0m \u001b[0mnp\u001b[0m\u001b[0;34m\u001b[0m\u001b[0m\n\u001b[0;32m----> 3\u001b[0;31m \u001b[0mnp\u001b[0m\u001b[0;34m.\u001b[0m\u001b[0msavetxt\u001b[0m\u001b[0;34m(\u001b[0m\u001b[0;34m'height-weights.csv'\u001b[0m\u001b[0;34m,\u001b[0m \u001b[0mdata\u001b[0m\u001b[0;34m,\u001b[0m \u001b[0mdelimiter\u001b[0m\u001b[0;34m=\u001b[0m\u001b[0;34m','\u001b[0m\u001b[0;34m)\u001b[0m\u001b[0;34m\u001b[0m\u001b[0m\n\u001b[0m",
      "\u001b[0;32m/usr/lib/python3/dist-packages/numpy/lib/npyio.py\u001b[0m in \u001b[0;36msavetxt\u001b[0;34m(fname, X, fmt, delimiter, newline, header, footer, comments)\u001b[0m\n\u001b[1;32m   1160\u001b[0m                     raise TypeError(\"Mismatch between array dtype ('%s') and \"\n\u001b[1;32m   1161\u001b[0m                                     \u001b[0;34m\"format specifier ('%s')\"\u001b[0m\u001b[0;34m\u001b[0m\u001b[0m\n\u001b[0;32m-> 1162\u001b[0;31m                                     % (str(X.dtype), format))\n\u001b[0m\u001b[1;32m   1163\u001b[0m         \u001b[0;32mif\u001b[0m \u001b[0mlen\u001b[0m\u001b[0;34m(\u001b[0m\u001b[0mfooter\u001b[0m\u001b[0;34m)\u001b[0m \u001b[0;34m>\u001b[0m \u001b[0;36m0\u001b[0m\u001b[0;34m:\u001b[0m\u001b[0;34m\u001b[0m\u001b[0m\n\u001b[1;32m   1164\u001b[0m             \u001b[0mfooter\u001b[0m \u001b[0;34m=\u001b[0m \u001b[0mfooter\u001b[0m\u001b[0;34m.\u001b[0m\u001b[0mreplace\u001b[0m\u001b[0;34m(\u001b[0m\u001b[0;34m'\\n'\u001b[0m\u001b[0;34m,\u001b[0m \u001b[0;34m'\\n'\u001b[0m \u001b[0;34m+\u001b[0m \u001b[0mcomments\u001b[0m\u001b[0;34m)\u001b[0m\u001b[0;34m\u001b[0m\u001b[0m\n",
      "\u001b[0;31mTypeError\u001b[0m: Mismatch between array dtype ('<U32') and format specifier ('%.18e,%.18e,%.18e')"
     ]
    }
   ],
   "source": [
    "\"\"\"EXPORT THE DATA TO CSV INCASE THE WEBSITE WE SCRAPPED IT FROM GOES OFFLINE\"\"\"\n",
    "import numpy as np\n",
    "np.savetxt('height-weights.csv', data, delimiter=',')"
   ]
  },
  {
   "cell_type": "code",
   "execution_count": null,
   "metadata": {
    "collapsed": true
   },
   "outputs": [],
   "source": [
    "x  = data[:,0]\n",
    "y = data[:,1]\n",
    "#print(y)\n",
    "\n",
    "plt.title('Celebrities')\n",
    "plt.xlabel('Height (cm)')\n",
    "plt.ylabel('Weight (kg)')\n",
    "\n",
    "plt.scatter(x, y)\n",
    "plt.show()"
   ]
  },
  {
   "cell_type": "code",
   "execution_count": null,
   "metadata": {
    "collapsed": true
   },
   "outputs": [],
   "source": [
    "import numpy as np\n",
    "import matplotlib.pyplot as plt\n",
    "from matplotlib import style\n",
    "style.use(\"ggplot\")\n",
    "\n",
    "from sklearn.cluster import KMeans\n",
    "\n",
    "nData = data[:,:2]\n",
    "#np.append(nData, [158,64])\n",
    "\n",
    "newArr = nData\n",
    "\n",
    "print(newArr)"
   ]
  },
  {
   "cell_type": "code",
   "execution_count": null,
   "metadata": {
    "collapsed": true
   },
   "outputs": [],
   "source": [
    "\n",
    "X = newArr\n",
    "\n",
    "#X.reshape(-1, 1)\n",
    "\n",
    "kmeans = KMeans(n_clusters=2)\n",
    "kmeans.fit(X)\n",
    "\n",
    "centroid = kmeans.cluster_centers_\n",
    "labels = kmeans.labels_\n",
    "\n",
    "print (centroid)\n",
    "print(labels)\n",
    "\n",
    "colors = [\"g.\",\"r.\"]\n",
    "\n",
    "for i in range(len(X)):\n",
    "   print (\"coordinate:\" , X[i], \"label:\", labels[i])\n",
    "   plt.plot(X[i][0],X[i][1],colors[labels[i]],markersize=10)\n",
    "\n",
    "plt.scatter(centroid[:,0],centroid[:,1], marker = \"x\", s=150, linewidths = 5, zorder =10)\n",
    "\n",
    "plt.show()"
   ]
  },
  {
   "cell_type": "code",
   "execution_count": null,
   "metadata": {
    "collapsed": true
   },
   "outputs": [],
   "source": [
    "import pandas as pd\n",
    "\n",
    "df = pd.DataFrame(data)\n",
    "# add the labels column [boy/girl]\n",
    "#print(df)\n",
    "df[3] = labels\n",
    "#df[3].replace(['girl', 'boy'], [1,0]) \n",
    "df[3].replace({0: 'Boy', 1: 'Girl'}, inplace=True)\n",
    "print(df)"
   ]
  }
 ],
 "metadata": {
  "kernelspec": {
   "display_name": "Python 3",
   "language": "python",
   "name": "python3"
  },
  "language_info": {
   "codemirror_mode": {
    "name": "ipython",
    "version": 3
   },
   "file_extension": ".py",
   "mimetype": "text/x-python",
   "name": "python",
   "nbconvert_exporter": "python",
   "pygments_lexer": "ipython3",
   "version": "3.5.2"
  }
 },
 "nbformat": 4,
 "nbformat_minor": 2
}
